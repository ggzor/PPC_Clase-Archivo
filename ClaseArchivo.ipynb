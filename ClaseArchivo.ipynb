{
 "cells": [
  {
   "cell_type": "markdown",
   "metadata": {},
   "source": [
    "# Práctica: **Clase archivo**\n",
    "\n",
    "**Alumno:** Axel Suárez Polo  \n",
    "**Matrícula:** 201744436\n",
    "\n",
    "En este práctica el objetivo es realizar un programa que calcula múltiples métricas de un archivo,\n",
    "para esto se realiza una clase para que se pueda reutilizar la lógica de manipulación.\n",
    "\n",
    "En cada método de la clase se encuentra la documentación de cada método.\n",
    "\n",
    "## Estrategias de diseño\n",
    "\n",
    "Puesto que el código para contar cuántas vocales, consonantes, signos de puntuación, \n",
    "espacios, mayúsculas y minúsculas es básicamente el mismo, esto se abstrae en el método\n",
    "más genérico llamado `Archivo.cuentaSi` que lo que hace es contar cuantos de los\n",
    "caracteres del archivo cumplen con la condición dada, esta condición es pasada con la construcción\n",
    "funcional del lenguaje `lambda`; con lo que se logra reducir considerablemente la cantidad de líneas de código.\n",
    "\n",
    "También resulta que el código para convertir a minúsculas, mayúsculas y hexadecimal es casi idéntico; por lo que lo que se realizó fue un método más genérico llamado `Archivo.convertir` que realiza la conversión solamente\n",
    "con una función para transformar cada caracter."
   ]
  },
  {
   "cell_type": "code",
   "execution_count": 14,
   "metadata": {},
   "outputs": [],
   "source": [
    "# Importar la función exit\n",
    "from sys import exit\n",
    "\n",
    "# Definición de la clase Archivo\n",
    "class Archivo:\n",
    "    def __init__(self, nombre):\n",
    "        \"\"\"Constructor de la clase Archivo, requiere un nombre\n",
    "           de archivo existente para poder ser instanciada\"\"\"\n",
    "\n",
    "        try:\n",
    "            # Intentar abrir el archivo\n",
    "            self.f = open(nombre, 'r')\n",
    "            self.nombre = nombre\n",
    "        except:\n",
    "            # Si no se puede abrir el archivo, entonces se termina el programa\n",
    "            print('No se puede abrir el archivo', nombre)\n",
    "            exit()\n",
    "\n",
    "    def muestra(self):\n",
    "        \"\"\"Muestra el archivo línea por línea, con su número\n",
    "           de línea correspondiente\"\"\"\n",
    "\n",
    "        # Mostrar línea por línea\n",
    "        i = 1\n",
    "        for linea in self.f:\n",
    "            print(f'{i:3} {linea}', end='')\n",
    "            i += 1\n",
    "        \n",
    "        # Regresar el apuntador del archivo al inicio\n",
    "        self.f.seek(0)\n",
    "\n",
    "    def cuentaSi(self, condicion):\n",
    "        \"\"\"Cuenta cuántos de los caracteres en el archivo cumplen con la condición dada. \n",
    "           Realiza una conversión a minúsculas antes de verificar la condición.\"\"\"\n",
    "\n",
    "        # Función interna para contar los caracteres que están en \n",
    "        # el conjunto en una línea\n",
    "        def contar(s):\n",
    "            contador = 0\n",
    "\n",
    "            # Verificación de cada caracter de la cadena\n",
    "            for i in range(len(s)):\n",
    "                if condicion(s[i]):\n",
    "                    contador += 1\n",
    "\n",
    "            return contador\n",
    "\n",
    "        # Realizar el conteo en todo el archivo\n",
    "        contador = 0\n",
    "        for linea in self.f:\n",
    "            contador += contar(linea)\n",
    "\n",
    "        # Devolver el apuntador del archivo al inicio\n",
    "        self.f.seek(0)\n",
    "\n",
    "        return contador\n",
    "\n",
    "    def cuentaVocales(self):\n",
    "        \"\"\"Cuenta cuántas vocales hay en el archivo\"\"\"\n",
    "        return self.cuentaSi(lambda c: c.lower() in set('aeiouáéíóú'))\n",
    "\n",
    "    def cuentaConsonantes(self):\n",
    "        \"\"\"Cuenta cuántas consonantes hay en el archivo\"\"\"\n",
    "        return self.cuentaSi(lambda c: c.lower() in set('bcdfghjklmnpqrstvwxyz'))\n",
    "\n",
    "    def cuentaPuntuacion(self):\n",
    "        \"\"\"Cuenta cuántos signos de puntuación hay en el archivo\"\"\"\n",
    "        return self.cuentaSi(lambda c: c.lower() in set('¿?¡!\"\\',.:;-_'))\n",
    "\n",
    "    def cuentaEspacios(self):\n",
    "        \"\"\"Cuenta cuántos espacios hay en el archivo, incluyendo tabulaciones.\"\"\"\n",
    "        return self.cuentaSi(lambda c: c.lower() in set(' \\t'))\n",
    "\n",
    "    def cuentaMayusculas(self):\n",
    "        \"\"\"Cuenta cuántas letras mayúsculas hay en el archivo.\"\"\"\n",
    "        return self.cuentaSi(str.isupper)\n",
    "    \n",
    "    def cuentaMinusculas(self):\n",
    "        \"\"\"Cuenta cuántas letras minúsculas hay en el archivo.\"\"\"\n",
    "        return self.cuentaSi(str.islower)\n",
    "\n",
    "    def cuentaPalabras(self):\n",
    "        \"\"\"Cuenta cuántas palabras hay en el archivo\"\"\"\n",
    "        contador = 0\n",
    "\n",
    "        # Por cada línea\n",
    "        for linea in self.f:\n",
    "            # Inicialmente no se está dentro de una palabra\n",
    "            dentroPalabra = False\n",
    "\n",
    "            # Por cada caracter de la línea\n",
    "            for c in linea:\n",
    "                # Si encontramos una letra y no estamos dentro de una palabra\n",
    "                # Entonces ahora sí estamos en una palabra y es una nueva palabra\n",
    "                if c.isalpha() and not dentroPalabra:\n",
    "                    dentroPalabra = True\n",
    "                    contador += 1\n",
    "\n",
    "                # Si encontramos algo que no es una letra y estabamos en una palabra\n",
    "                # Entonces ya terminó la palabra\n",
    "                if not c.isalpha() and dentroPalabra:\n",
    "                    dentroPalabra = False\n",
    "\n",
    "        # Devolver el apuntador del archivo al inicio\n",
    "        self.f.seek(0)\n",
    "\n",
    "        return contador\n",
    "\n",
    "    def cuentaLineas(self):\n",
    "        \"\"\"Cuenta cuántas líneas tiene el archivo\"\"\"\n",
    "        contador = 0\n",
    "\n",
    "        # Incrementar el contador de archivo por cada línea\n",
    "        for _ in self.f:\n",
    "            contador += 1\n",
    "\n",
    "        # Devolver el apuntador del archivo al inicio\n",
    "        self.f.seek(0)\n",
    "\n",
    "        return contador\n",
    "\n",
    "    def copiar(self, destino):\n",
    "        \"\"\"Copia el archivo actual al archivo con el nombre especificado\"\"\"\n",
    "        # Abrir el archivo y copiar linea por linea\n",
    "        with open(destino, 'w') as destino:\n",
    "            for l in self.f:\n",
    "                # Se usa print para incluír automaticamente el salto de línea\n",
    "                print(l, file=destino)\n",
    "\n",
    "        # Devolver el apuntador del archivo al inicio\n",
    "        self.f.seek(0)\n",
    "\n",
    "    def convertir(self, fun, sep=''):\n",
    "        \"\"\"Imprime cada uno de los carácteres del archivo después de aplicarles la\n",
    "           función dada, con el separador dado\"\"\"\n",
    "        for linea in self.f:\n",
    "            for c in linea:\n",
    "                # Imprime cada caracter después de aplicarle la función\n",
    "                print(fun(c), end=sep)\n",
    "\n",
    "            # Imprimir cada salto de línea\n",
    "            print()\n",
    "        \n",
    "        # Devolver el apuntador del archivo al inicio\n",
    "        self.f.seek(0)\n",
    "\n",
    "    def convertirMayusculas(self):\n",
    "        \"\"\"Muestra todo el archivo en mayúsculas\"\"\"\n",
    "        self.convertir(str.upper)\n",
    "\n",
    "    def convertirMinusculas(self):\n",
    "        \"\"\"Muestra todo el archivo en minúsculas\"\"\"\n",
    "        self.convertir(str.lower)\n",
    "\n",
    "    def convertirHexadecimal(self):\n",
    "        \"\"\"Muestra todo el archivo en hexadecimal\"\"\"\n",
    "        self.convertir(lambda c: hex(ord(c))[2:], sep=' ')\n"
   ]
  },
  {
   "cell_type": "code",
   "execution_count": 15,
   "metadata": {},
   "outputs": [
    {
     "name": "stdout",
     "output_type": "stream",
     "text": [
      "Nombre del archivo:ejemplo.txt\n",
      "  1 Este es un archivo de prueba para la clase archivo.\n",
      "  2 Es evidente el número de líneas, pero no es tan evidente la cantidad de:\n",
      "  3     Vocales, Minúsculas, Mayúsculas, etc.\n",
      "  4 \n",
      "  5 ¿O sí lo es?"
     ]
    }
   ],
   "source": [
    "# Abrir y mostrar el archivo con sus números de línea\n",
    "nombre = input('Nombre del archivo:')\n",
    "archivo = Archivo(nombre)\n",
    "\n",
    "archivo.muestra()"
   ]
  },
  {
   "cell_type": "code",
   "execution_count": 16,
   "metadata": {},
   "outputs": [
    {
     "name": "stdout",
     "output_type": "stream",
     "text": [
      "Vocales: 62\n",
      "Consonantes: 73\n",
      "Signos de puntuación: 9\n",
      "Espacios: 32\n",
      "Palabras: 32\n",
      "Líneas: 5\n",
      "Mayúsculas: 6\n",
      "Minúsculas: 129\n"
     ]
    }
   ],
   "source": [
    "# Imprimir estadísticas del archivo\n",
    "print('Vocales:', archivo.cuentaVocales())\n",
    "print('Consonantes:', archivo.cuentaConsonantes())\n",
    "print('Signos de puntuación:', archivo.cuentaPuntuacion())\n",
    "print('Espacios:', archivo.cuentaEspacios())\n",
    "print('Palabras:', archivo.cuentaPalabras())\n",
    "print('Líneas:', archivo.cuentaLineas())\n",
    "print('Mayúsculas:', archivo.cuentaMayusculas())\n",
    "print('Minúsculas:', archivo.cuentaMinusculas())"
   ]
  },
  {
   "cell_type": "code",
   "execution_count": 18,
   "metadata": {},
   "outputs": [
    {
     "name": "stdout",
     "output_type": "stream",
     "text": [
      "Nombre de la copia: copia.txt\n",
      "Contenido de la copia:\n",
      "  1 Este es un archivo de prueba para la clase archivo.\n",
      "  2 \n",
      "  3 Es evidente el número de líneas, pero no es tan evidente la cantidad de:\n",
      "  4 \n",
      "  5     Vocales, Minúsculas, Mayúsculas, etc.\n",
      "  6 \n",
      "  7 \n",
      "  8 \n",
      "  9 ¿O sí lo es?\n"
     ]
    }
   ],
   "source": [
    "# Copiar el archivo\n",
    "destino = input('Nombre de la copia: ')\n",
    "archivo.copiar(destino)\n",
    "\n",
    "# Cargar la copia y mostrarla \n",
    "copia = Archivo(destino)\n",
    "print('Contenido de la copia:')\n",
    "copia.muestra()"
   ]
  },
  {
   "cell_type": "code",
   "execution_count": 22,
   "metadata": {},
   "outputs": [
    {
     "name": "stdout",
     "output_type": "stream",
     "text": [
      "45 73 74 65 20 65 73 20 75 6e 20 61 72 63 68 69 76 6f 20 64 65 20 70 72 75 65 62 61 20 70 61 72 61 20 6c 61 20 63 6c 61 73 65 20 61 72 63 68 69 76 6f 2e a \n",
      "45 73 20 65 76 69 64 65 6e 74 65 20 65 6c 20 6e fa 6d 65 72 6f 20 64 65 20 6c ed 6e 65 61 73 2c 20 70 65 72 6f 20 6e 6f 20 65 73 20 74 61 6e 20 65 76 69 64 65 6e 74 65 20 6c 61 20 63 61 6e 74 69 64 61 64 20 64 65 3a a \n",
      "20 20 20 20 56 6f 63 61 6c 65 73 2c 20 4d 69 6e fa 73 63 75 6c 61 73 2c 20 4d 61 79 fa 73 63 75 6c 61 73 2c 20 65 74 63 2e a \n",
      "a \n",
      "bf 4f 20 73 ed 20 6c 6f 20 65 73 3f \n"
     ]
    }
   ],
   "source": [
    "# Muestra el contenido de todo el archivo en hexadecimal\n",
    "archivo.convertirHexadecimal()"
   ]
  },
  {
   "cell_type": "code",
   "execution_count": 19,
   "metadata": {},
   "outputs": [
    {
     "name": "stdout",
     "output_type": "stream",
     "text": [
      "este es un archivo de prueba para la clase archivo.\n",
      "\n",
      "es evidente el número de líneas, pero no es tan evidente la cantidad de:\n",
      "\n",
      "    vocales, minúsculas, mayúsculas, etc.\n",
      "\n",
      "\n",
      "\n",
      "¿o sí lo es?\n"
     ]
    }
   ],
   "source": [
    "# Muestra todo el contenido del archivo en minúsculas\n",
    "archivo.convertirMinusculas()"
   ]
  },
  {
   "cell_type": "code",
   "execution_count": 20,
   "metadata": {},
   "outputs": [
    {
     "name": "stdout",
     "output_type": "stream",
     "text": [
      "ESTE ES UN ARCHIVO DE PRUEBA PARA LA CLASE ARCHIVO.\n",
      "\n",
      "ES EVIDENTE EL NÚMERO DE LÍNEAS, PERO NO ES TAN EVIDENTE LA CANTIDAD DE:\n",
      "\n",
      "    VOCALES, MINÚSCULAS, MAYÚSCULAS, ETC.\n",
      "\n",
      "\n",
      "\n",
      "¿O SÍ LO ES?\n"
     ]
    }
   ],
   "source": [
    "# Muestra todo el contenido del archivo en mayúsculas\n",
    "archivo.convertirMayusculas()"
   ]
  }
 ],
 "metadata": {
  "file_extension": ".py",
  "kernelspec": {
   "display_name": "Python 3",
   "language": "python",
   "name": "python3"
  },
  "language_info": {
   "codemirror_mode": {
    "name": "ipython",
    "version": 3
   },
   "file_extension": ".py",
   "mimetype": "text/x-python",
   "name": "python",
   "nbconvert_exporter": "python",
   "pygments_lexer": "ipython3",
   "version": "3.7.3"
  },
  "mimetype": "text/x-python",
  "name": "python",
  "npconvert_exporter": "python",
  "pygments_lexer": "ipython3",
  "version": 3
 },
 "nbformat": 4,
 "nbformat_minor": 2
}
